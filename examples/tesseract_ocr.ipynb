{
 "cells": [
  {
   "cell_type": "code",
   "execution_count": 55,
   "metadata": {},
   "outputs": [],
   "source": [
    "import cv2\n",
    "from PIL import Image\n",
    "from pytesseract import pytesseract"
   ]
  },
  {
   "cell_type": "code",
   "execution_count": 79,
   "metadata": {},
   "outputs": [
    {
     "name": "stdout",
     "output_type": "stream",
     "text": [
      "电容量(pF)初值差%\n"
     ]
    }
   ],
   "source": [
    "filename = '1.PNG'\n",
    "\n",
    "image = Image.open(filename)\n",
    "code = pytesseract.image_to_string(image, lang='chi_sim')\n",
    "print(code)"
   ]
  },
  {
   "cell_type": "code",
   "execution_count": 81,
   "metadata": {},
   "outputs": [
    {
     "data": {
      "text/plain": [
       "True"
      ]
     },
     "execution_count": 81,
     "metadata": {},
     "output_type": "execute_result"
    }
   ],
   "source": [
    "img = cv2.imread(filename)\n",
    "h,w,_ = img.shape\n",
    "\n",
    "boxs = pytesseract.image_to_boxes(image)\n",
    "for box in boxs.splitlines():\n",
    "    b = box.split(' ')\n",
    "    img = cv2.rectangle(img, (int(b[1]), h - int(b[2])), (int(b[3]), h - int(b[4])), (0, 255, 0), 1)\n",
    "    \n",
    "cv2.imwrite('test.png', img)"
   ]
  },
  {
   "cell_type": "markdown",
   "metadata": {},
   "source": [
    "## 参考资料\n",
    "* [tesseract](https://github.com/tesseract-ocr/tesseract/wiki)\n",
    "* [Python Tesseract](https://github.com/madmaze/pytesseract)\n",
    "* [Getting the bounding box of the recognized words using python-tesseract](https://stackoverflow.com/questions/20831612/getting-the-bounding-box-of-the-recognized-words-using-python-tesseract)\n",
    "* [How to extract tables from an image?](http://answers.opencv.org/question/63847/how-to-extract-tables-from-an-image/)\n",
    "* [Tesseract Command Line Usage](https://github.com/tesseract-ocr/tesseract/wiki/Command-Line-Usage)"
   ]
  }
 ],
 "metadata": {
  "kernelspec": {
   "display_name": "Python 3",
   "language": "python",
   "name": "python3"
  },
  "language_info": {
   "codemirror_mode": {
    "name": "ipython",
    "version": 3
   },
   "file_extension": ".py",
   "mimetype": "text/x-python",
   "name": "python",
   "nbconvert_exporter": "python",
   "pygments_lexer": "ipython3",
   "version": "3.6.4"
  }
 },
 "nbformat": 4,
 "nbformat_minor": 2
}
